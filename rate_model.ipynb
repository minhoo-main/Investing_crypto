{
 "cells": [
  {
   "cell_type": "markdown",
   "metadata": {},
   "source": [
    "# BTC Futures 에 내제되어있는 funding rate term structure 분석"
   ]
  },
  {
   "cell_type": "markdown",
   "metadata": {},
   "source": [
    "선물 계약은 레버리지가 가능하다. 일정 증거금만 있으면 2배, 3배 많게는 100배 이상 레버리지를 키울 수 있다. 즉 내가 지금 비트코인 10개만큼 사는 포지션을 구축하고 싶은데 레버리지 10배 선물 롱 계약을 체결하면 비트코인 1개로 비트코인 10개만큼 보유하고 있는것과 비슷한 경제적인 효과를 얻을 수 있는 것이다. 투자자가 비트코인 10개를 사려면 비트코인 10개 가치만큼의 현금이 초기에 필요하지만 그만큼의 현금이 없다면 선물이라는 파생상품으로 그 문제를 해결할 수 있는 것이다. 물론 공짜 점심은 없기 때문에 지불해야할 비용이 있는데 바로 Funding Fee 또는 현,선물 basis이다.  \\\n",
    " 일반적인 장내선물 파생상품은 대부분 만기가 정해져 있다. 코인선물시장에서는 만기가 정해진 파생상품도 존재하지만, 거래량과 open interest 가 압도적으로 많은 파생상품은 perpetual 선물이다. BTC perpetual 선물은 만기가 없고 8시간마다(일반적으로) Funding Fee 만큼 정산을 하게 되는데 이걸 1년동안 누적하면 연율화 된 비용이 나오게 된다. 즉 펀딩피를 1년동안 모두 더하면 선물 롱 계약 매수자가 레버리지 1배를 증가시킬 때 마다 드는 비용이 나올 것이다.  \\ \n",
    " 해외 코인 거래소에서 물론 만기가 있는 선물도 존재한다. 만기가 있는 선물은 가격에 내제되어있는 금리를 구할 수 있고 만기가 길게는 1년까지 존재한다.\n",
    "\n",
    " 만기가 없는 선물, 만기가 있는 선물의 내제되어있는 금리를 분석하여 선물간 spread 거래를 하거나, 통계적으로 금리가 회귀하는 성질을 이용하여 통계적 차익거래 전략을 생각해 볼 수 있을 것이다.  \\\n",
    "\n",
    "코인 관련 파생상품은 deribit 거래소가 다양한 파생거래를 지원해 주기 때문에 해당 거래소 내에서만 분석을 먼저 해보자.(옵션상품 역시 다양한 행사가별, 만기별 상품이 존재)"
   ]
  },
  {
   "cell_type": "code",
   "execution_count": 1,
   "metadata": {},
   "outputs": [],
   "source": [
    "from crypto import pyderibit, CONFIG\n",
    "api = pyderibit.Deribit(CONFIG.DERIBIT['MAIN_URL'])"
   ]
  },
  {
   "cell_type": "code",
   "execution_count": 2,
   "metadata": {},
   "outputs": [],
   "source": [
    "ls_fut = api.get_instruments_all_list('BTC','2018-01-01')"
   ]
  },
  {
   "cell_type": "code",
   "execution_count": null,
   "metadata": {},
   "outputs": [],
   "source": []
  }
 ],
 "metadata": {
  "kernelspec": {
   "display_name": "Python 3",
   "language": "python",
   "name": "python3"
  },
  "language_info": {
   "codemirror_mode": {
    "name": "ipython",
    "version": 3
   },
   "file_extension": ".py",
   "mimetype": "text/x-python",
   "name": "python",
   "nbconvert_exporter": "python",
   "pygments_lexer": "ipython3",
   "version": "3.9.12"
  }
 },
 "nbformat": 4,
 "nbformat_minor": 2
}
